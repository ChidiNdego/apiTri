{
 "cells": [
  {
   "cell_type": "code",
   "execution_count": 1,
   "metadata": {},
   "outputs": [],
   "source": [
    "import pandas as pd"
   ]
  },
  {
   "cell_type": "code",
   "execution_count": 23,
   "metadata": {
    "scrolled": true
   },
   "outputs": [],
   "source": [
    "df = pd.read_csv('./Recurrent_Trans.csv', usecols=[*range(0,7)], \n",
    "                 names=['period', 'src_account', 'datetime', 'amount', 'dest_account', 'dest_bank', 'tran_particulars']\n",
    "                 , header=None, converters={'src_account':str,'dest_account':str})"
   ]
  },
  {
   "cell_type": "code",
   "execution_count": 37,
   "metadata": {
    "scrolled": true
   },
   "outputs": [],
   "source": [
    "# df = pd.read_csv('./api_db.csv', usecols=['CIF_ID', 'foracid', 'txnDateTime', 'particulars', 'tran_amt']\n",
    "#     , names=['cif_id', 'foracid', 'txnDateTime', 'txnParticulars', 'amount'], \n",
    "#     converters={'cif_id': str, 'foracid':str,'txnDateTime':str})[['foracid', 'txnDateTime', 'particulars', 'tran_amt']]\n",
    "\n",
    "df = pd.read_csv('./api_db.csv', usecols=[0,1,7,8,3],\n",
    "                 names=['cif_id', 'foracid', 'txnDateTime', 'txnParticulars', 'amount'],\n",
    "    converters={'cif_id': str, 'foracid':str,'txnDateTime':str})[['foracid', 'txnDateTime', 'particulars', 'tran_amt']]"
   ]
  },
  {
   "cell_type": "code",
   "execution_count": 38,
   "metadata": {},
   "outputs": [
    {
     "data": {
      "text/html": [
       "<div>\n",
       "<style scoped>\n",
       "    .dataframe tbody tr th:only-of-type {\n",
       "        vertical-align: middle;\n",
       "    }\n",
       "\n",
       "    .dataframe tbody tr th {\n",
       "        vertical-align: top;\n",
       "    }\n",
       "\n",
       "    .dataframe thead th {\n",
       "        text-align: right;\n",
       "    }\n",
       "</style>\n",
       "<table border=\"1\" class=\"dataframe\">\n",
       "  <thead>\n",
       "    <tr style=\"text-align: right;\">\n",
       "      <th></th>\n",
       "      <th>foracid</th>\n",
       "      <th>txnDateTime</th>\n",
       "      <th>particulars</th>\n",
       "      <th>tran_amt</th>\n",
       "    </tr>\n",
       "  </thead>\n",
       "  <tbody>\n",
       "    <tr>\n",
       "      <th>0</th>\n",
       "      <td>234567891</td>\n",
       "      <td>12/1/2021 0:00</td>\n",
       "      <td>bblwgyi</td>\n",
       "      <td>223.0</td>\n",
       "    </tr>\n",
       "    <tr>\n",
       "      <th>1</th>\n",
       "      <td>234567892</td>\n",
       "      <td>12/2/2021 0:00</td>\n",
       "      <td>pbsndcv</td>\n",
       "      <td>100000.0</td>\n",
       "    </tr>\n",
       "    <tr>\n",
       "      <th>2</th>\n",
       "      <td>234567893</td>\n",
       "      <td>12/3/2021 0:00</td>\n",
       "      <td>t</td>\n",
       "      <td>25000.0</td>\n",
       "    </tr>\n",
       "    <tr>\n",
       "      <th>3</th>\n",
       "      <td>234567894</td>\n",
       "      <td>12/4/2021 0:00</td>\n",
       "      <td>hifkk</td>\n",
       "      <td>25000.0</td>\n",
       "    </tr>\n",
       "    <tr>\n",
       "      <th>4</th>\n",
       "      <td>234567895</td>\n",
       "      <td>12/5/2021 0:00</td>\n",
       "      <td>nnwjlp</td>\n",
       "      <td>25000.0</td>\n",
       "    </tr>\n",
       "  </tbody>\n",
       "</table>\n",
       "</div>"
      ],
      "text/plain": [
       "     foracid     txnDateTime particulars  tran_amt\n",
       "0  234567891  12/1/2021 0:00     bblwgyi     223.0\n",
       "1  234567892  12/2/2021 0:00     pbsndcv  100000.0\n",
       "2  234567893  12/3/2021 0:00           t   25000.0\n",
       "3  234567894  12/4/2021 0:00       hifkk   25000.0\n",
       "4  234567895  12/5/2021 0:00      nnwjlp   25000.0"
      ]
     },
     "execution_count": 38,
     "metadata": {},
     "output_type": "execute_result"
    }
   ],
   "source": [
    "df.head()"
   ]
  },
  {
   "cell_type": "code",
   "execution_count": 26,
   "metadata": {},
   "outputs": [],
   "source": [
    "foracid = '9200076526'"
   ]
  },
  {
   "cell_type": "code",
   "execution_count": 28,
   "metadata": {
    "scrolled": true
   },
   "outputs": [
    {
     "data": {
      "text/html": [
       "<div>\n",
       "<style scoped>\n",
       "    .dataframe tbody tr th:only-of-type {\n",
       "        vertical-align: middle;\n",
       "    }\n",
       "\n",
       "    .dataframe tbody tr th {\n",
       "        vertical-align: top;\n",
       "    }\n",
       "\n",
       "    .dataframe thead th {\n",
       "        text-align: right;\n",
       "    }\n",
       "</style>\n",
       "<table border=\"1\" class=\"dataframe\">\n",
       "  <thead>\n",
       "    <tr style=\"text-align: right;\">\n",
       "      <th></th>\n",
       "      <th>period</th>\n",
       "      <th>src_account</th>\n",
       "      <th>datetime</th>\n",
       "      <th>amount</th>\n",
       "      <th>dest_account</th>\n",
       "      <th>dest_bank</th>\n",
       "      <th>tran_particulars</th>\n",
       "    </tr>\n",
       "  </thead>\n",
       "  <tbody>\n",
       "    <tr>\n",
       "      <th>591</th>\n",
       "      <td>jan</td>\n",
       "      <td>9200076526</td>\n",
       "      <td>2021-01-26 00:00:00</td>\n",
       "      <td>150000.0</td>\n",
       "      <td>0028859522</td>\n",
       "      <td>GTB</td>\n",
       "      <td>MB TRF  Monthly Allowance</td>\n",
       "    </tr>\n",
       "    <tr>\n",
       "      <th>1271</th>\n",
       "      <td>jan</td>\n",
       "      <td>9200076526</td>\n",
       "      <td>2021-01-06 00:00:00</td>\n",
       "      <td>17000.0</td>\n",
       "      <td>0000403121</td>\n",
       "      <td>GTB</td>\n",
       "      <td>MB TRF  FemiJanuary</td>\n",
       "    </tr>\n",
       "    <tr>\n",
       "      <th>4052</th>\n",
       "      <td>jan</td>\n",
       "      <td>9200076526</td>\n",
       "      <td>2021-01-17 00:00:00</td>\n",
       "      <td>5000.0</td>\n",
       "      <td>0212000112</td>\n",
       "      <td>ECOBANK</td>\n",
       "      <td>MB TRF  Benevolence Dr Oyetunj</td>\n",
       "    </tr>\n",
       "    <tr>\n",
       "      <th>4819</th>\n",
       "      <td>jan</td>\n",
       "      <td>9200076526</td>\n",
       "      <td>2021-01-24 00:00:00</td>\n",
       "      <td>400000.0</td>\n",
       "      <td>0111660448</td>\n",
       "      <td>GTB</td>\n",
       "      <td>MB TRF  TitheDr Oyetunji</td>\n",
       "    </tr>\n",
       "    <tr>\n",
       "      <th>6455</th>\n",
       "      <td>jan</td>\n",
       "      <td>9200076526</td>\n",
       "      <td>2021-01-26 00:00:00</td>\n",
       "      <td>150000.0</td>\n",
       "      <td>2000105796</td>\n",
       "      <td>UBA</td>\n",
       "      <td>MB TRF  Monthly Allowance</td>\n",
       "    </tr>\n",
       "  </tbody>\n",
       "</table>\n",
       "</div>"
      ],
      "text/plain": [
       "     period src_account             datetime    amount dest_account dest_bank  \\\n",
       "591     jan  9200076526  2021-01-26 00:00:00  150000.0   0028859522       GTB   \n",
       "1271    jan  9200076526  2021-01-06 00:00:00   17000.0   0000403121       GTB   \n",
       "4052    jan  9200076526  2021-01-17 00:00:00    5000.0   0212000112   ECOBANK   \n",
       "4819    jan  9200076526  2021-01-24 00:00:00  400000.0   0111660448       GTB   \n",
       "6455    jan  9200076526  2021-01-26 00:00:00  150000.0   2000105796       UBA   \n",
       "\n",
       "                    tran_particulars  \n",
       "591        MB TRF  Monthly Allowance  \n",
       "1271             MB TRF  FemiJanuary  \n",
       "4052  MB TRF  Benevolence Dr Oyetunj  \n",
       "4819        MB TRF  TitheDr Oyetunji  \n",
       "6455       MB TRF  Monthly Allowance  "
      ]
     },
     "execution_count": 28,
     "metadata": {},
     "output_type": "execute_result"
    }
   ],
   "source": [
    "df[df['src_account'] == foracid]"
   ]
  },
  {
   "cell_type": "code",
   "execution_count": 29,
   "metadata": {},
   "outputs": [],
   "source": [
    "dd = df[df['src_account'] == foracid]"
   ]
  },
  {
   "cell_type": "code",
   "execution_count": 32,
   "metadata": {},
   "outputs": [
    {
     "data": {
      "text/html": [
       "<div>\n",
       "<style scoped>\n",
       "    .dataframe tbody tr th:only-of-type {\n",
       "        vertical-align: middle;\n",
       "    }\n",
       "\n",
       "    .dataframe tbody tr th {\n",
       "        vertical-align: top;\n",
       "    }\n",
       "\n",
       "    .dataframe thead th {\n",
       "        text-align: right;\n",
       "    }\n",
       "</style>\n",
       "<table border=\"1\" class=\"dataframe\">\n",
       "  <thead>\n",
       "    <tr style=\"text-align: right;\">\n",
       "      <th></th>\n",
       "      <th>period</th>\n",
       "      <th>src_account</th>\n",
       "      <th>datetime</th>\n",
       "      <th>amount</th>\n",
       "      <th>dest_account</th>\n",
       "      <th>dest_bank</th>\n",
       "      <th>tran_particulars</th>\n",
       "    </tr>\n",
       "  </thead>\n",
       "  <tbody>\n",
       "    <tr>\n",
       "      <th>591</th>\n",
       "      <td>jan</td>\n",
       "      <td>9200076526</td>\n",
       "      <td>2021-01-26 00:00:00</td>\n",
       "      <td>150000.0</td>\n",
       "      <td>0028859522</td>\n",
       "      <td>GTB</td>\n",
       "      <td>MB TRF  Monthly Allowance</td>\n",
       "    </tr>\n",
       "    <tr>\n",
       "      <th>1271</th>\n",
       "      <td>jan</td>\n",
       "      <td>9200076526</td>\n",
       "      <td>2021-01-06 00:00:00</td>\n",
       "      <td>17000.0</td>\n",
       "      <td>0000403121</td>\n",
       "      <td>GTB</td>\n",
       "      <td>MB TRF  FemiJanuary</td>\n",
       "    </tr>\n",
       "    <tr>\n",
       "      <th>4052</th>\n",
       "      <td>jan</td>\n",
       "      <td>9200076526</td>\n",
       "      <td>2021-01-17 00:00:00</td>\n",
       "      <td>5000.0</td>\n",
       "      <td>0212000112</td>\n",
       "      <td>ECOBANK</td>\n",
       "      <td>MB TRF  Benevolence Dr Oyetunj</td>\n",
       "    </tr>\n",
       "    <tr>\n",
       "      <th>4819</th>\n",
       "      <td>jan</td>\n",
       "      <td>9200076526</td>\n",
       "      <td>2021-01-24 00:00:00</td>\n",
       "      <td>400000.0</td>\n",
       "      <td>0111660448</td>\n",
       "      <td>GTB</td>\n",
       "      <td>MB TRF  TitheDr Oyetunji</td>\n",
       "    </tr>\n",
       "    <tr>\n",
       "      <th>6455</th>\n",
       "      <td>jan</td>\n",
       "      <td>9200076526</td>\n",
       "      <td>2021-01-26 00:00:00</td>\n",
       "      <td>150000.0</td>\n",
       "      <td>2000105796</td>\n",
       "      <td>UBA</td>\n",
       "      <td>MB TRF  Monthly Allowance</td>\n",
       "    </tr>\n",
       "  </tbody>\n",
       "</table>\n",
       "</div>"
      ],
      "text/plain": [
       "     period src_account             datetime    amount dest_account dest_bank  \\\n",
       "591     jan  9200076526  2021-01-26 00:00:00  150000.0   0028859522       GTB   \n",
       "1271    jan  9200076526  2021-01-06 00:00:00   17000.0   0000403121       GTB   \n",
       "4052    jan  9200076526  2021-01-17 00:00:00    5000.0   0212000112   ECOBANK   \n",
       "4819    jan  9200076526  2021-01-24 00:00:00  400000.0   0111660448       GTB   \n",
       "6455    jan  9200076526  2021-01-26 00:00:00  150000.0   2000105796       UBA   \n",
       "\n",
       "                    tran_particulars  \n",
       "591        MB TRF  Monthly Allowance  \n",
       "1271             MB TRF  FemiJanuary  \n",
       "4052  MB TRF  Benevolence Dr Oyetunj  \n",
       "4819        MB TRF  TitheDr Oyetunji  \n",
       "6455       MB TRF  Monthly Allowance  "
      ]
     },
     "execution_count": 32,
     "metadata": {},
     "output_type": "execute_result"
    }
   ],
   "source": [
    "dd"
   ]
  },
  {
   "cell_type": "code",
   "execution_count": 34,
   "metadata": {},
   "outputs": [
    {
     "data": {
      "text/plain": [
       "'[{\"period\":\"jan\",\"src_account\":\"9200076526\",\"datetime\":\"2021-01-26 00:00:00\",\"amount\":150000.0,\"dest_account\":\"0028859522\",\"dest_bank\":\"GTB\",\"tran_particulars\":\"MB TRF  Monthly Allowance\"},{\"period\":\"jan\",\"src_account\":\"9200076526\",\"datetime\":\"2021-01-06 00:00:00\",\"amount\":17000.0,\"dest_account\":\"0000403121\",\"dest_bank\":\"GTB\",\"tran_particulars\":\"MB TRF  FemiJanuary\"},{\"period\":\"jan\",\"src_account\":\"9200076526\",\"datetime\":\"2021-01-17 00:00:00\",\"amount\":5000.0,\"dest_account\":\"0212000112\",\"dest_bank\":\"ECOBANK\",\"tran_particulars\":\"MB TRF  Benevolence Dr Oyetunj\"},{\"period\":\"jan\",\"src_account\":\"9200076526\",\"datetime\":\"2021-01-24 00:00:00\",\"amount\":400000.0,\"dest_account\":\"0111660448\",\"dest_bank\":\"GTB\",\"tran_particulars\":\"MB TRF  TitheDr Oyetunji\"},{\"period\":\"jan\",\"src_account\":\"9200076526\",\"datetime\":\"2021-01-26 00:00:00\",\"amount\":150000.0,\"dest_account\":\"2000105796\",\"dest_bank\":\"UBA\",\"tran_particulars\":\"MB TRF  Monthly Allowance\"}]'"
      ]
     },
     "execution_count": 34,
     "metadata": {},
     "output_type": "execute_result"
    }
   ],
   "source": [
    "dd.to_json(orient='records')"
   ]
  },
  {
   "cell_type": "code",
   "execution_count": null,
   "metadata": {},
   "outputs": [],
   "source": []
  }
 ],
 "metadata": {
  "kernelspec": {
   "display_name": "Python 3",
   "language": "python",
   "name": "python3"
  },
  "language_info": {
   "codemirror_mode": {
    "name": "ipython",
    "version": 3
   },
   "file_extension": ".py",
   "mimetype": "text/x-python",
   "name": "python",
   "nbconvert_exporter": "python",
   "pygments_lexer": "ipython3",
   "version": "3.8.3"
  }
 },
 "nbformat": 4,
 "nbformat_minor": 2
}
